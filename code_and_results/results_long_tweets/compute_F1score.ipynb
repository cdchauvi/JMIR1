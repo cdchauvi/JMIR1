{
 "cells": [
  {
   "cell_type": "code",
   "execution_count": 1,
   "id": "d82909f2",
   "metadata": {},
   "outputs": [
    {
     "name": "stdout",
     "output_type": "stream",
     "text": [
      "0.6465412262596781 0.2523212490124255\n"
     ]
    }
   ],
   "source": [
    "%reset -f\n",
    "\n",
    "from sklearn.metrics import f1_score\n",
    "import pandas as pd\n",
    "\n",
    "all_data = pd.read_csv('confusion_matrix.csv', delimiter = \";\", encoding = 'latin_1')\n",
    "\n",
    "y_true1=all_data['Label1']\n",
    "y_true2=all_data['Label2']\n",
    "\n",
    "y_pred1=all_data['Label1_pred']\n",
    "y_pred2=all_data['Label2_pred']\n",
    "\n",
    "f1=f1_score(y_true1, y_pred1, average='weighted')\n",
    "f2=f1_score(y_true1, y_pred2, average='weighted')\n",
    "\n",
    "print(f1, f2)"
   ]
  },
  {
   "cell_type": "code",
   "execution_count": 5,
   "id": "302336cb",
   "metadata": {},
   "outputs": [
    {
     "name": "stdout",
     "output_type": "stream",
     "text": [
      "(0.675096192650101, 0.6309523809523809, 0.6465412262596781, None)\n",
      "(0.7256353560232871, 0.7321428571428571, 0.72437641723356, None)\n"
     ]
    }
   ],
   "source": [
    "from sklearn.metrics import precision_recall_fscore_support\n",
    "\n",
    "print(precision_recall_fscore_support(y_true1, y_pred1, average='weighted'))\n",
    "print(precision_recall_fscore_support(y_true2, y_pred2, average='weighted'))"
   ]
  },
  {
   "cell_type": "code",
   "execution_count": null,
   "id": "e6bb3664",
   "metadata": {},
   "outputs": [],
   "source": []
  }
 ],
 "metadata": {
  "kernelspec": {
   "display_name": "Python 3 (ipykernel)",
   "language": "python",
   "name": "python3"
  },
  "language_info": {
   "codemirror_mode": {
    "name": "ipython",
    "version": 3
   },
   "file_extension": ".py",
   "mimetype": "text/x-python",
   "name": "python",
   "nbconvert_exporter": "python",
   "pygments_lexer": "ipython3",
   "version": "3.8.12"
  }
 },
 "nbformat": 4,
 "nbformat_minor": 5
}
