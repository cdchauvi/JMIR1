{
 "cells": [
  {
   "cell_type": "code",
   "execution_count": 1,
   "id": "d82909f2",
   "metadata": {},
   "outputs": [
    {
     "name": "stdout",
     "output_type": "stream",
     "text": [
      "0.5529710672089512 0.5322576995028195 0.5519320263279258\n"
     ]
    }
   ],
   "source": [
    "%reset -f\n",
    "\n",
    "from sklearn.metrics import f1_score\n",
    "import pandas as pd\n",
    "\n",
    "all_data = pd.read_csv('All_results.csv', delimiter = \";\", encoding = 'latin_1')\n",
    "\n",
    "y_true=all_data['Label1']\n",
    "y_pred7=all_data['Label1_pred_epoch7']\n",
    "y_pred15=all_data['Label1_pred_epoch15']\n",
    "y_pred20=all_data['Label1_pred_epoch20']\n",
    "\n",
    "f1_7=f1_score(y_true, y_pred7, average='weighted')\n",
    "f1_15=f1_score(y_true, y_pred15, average='weighted')\n",
    "f1_20=f1_score(y_true, y_pred20, average='weighted')\n",
    "\n",
    "print(f1_7, f1_15, f1_20)"
   ]
  },
  {
   "cell_type": "code",
   "execution_count": 3,
   "id": "302336cb",
   "metadata": {},
   "outputs": [
    {
     "name": "stdout",
     "output_type": "stream",
     "text": [
      "(0.5904792909187091, 0.5525, 0.5529710672089512, None)\n",
      "(0.5663585043533124, 0.53, 0.5322576995028195, None)\n",
      "(0.5689995318015455, 0.545, 0.5519320263279258, None)\n"
     ]
    }
   ],
   "source": [
    "from sklearn.metrics import precision_recall_fscore_support\n",
    "\n",
    "print(precision_recall_fscore_support(y_true, y_pred7, average='weighted'))\n",
    "print(precision_recall_fscore_support(y_true, y_pred15, average='weighted'))\n",
    "print(precision_recall_fscore_support(y_true, y_pred20, average='weighted'))"
   ]
  },
  {
   "cell_type": "code",
   "execution_count": null,
   "id": "e6bb3664",
   "metadata": {},
   "outputs": [],
   "source": []
  }
 ],
 "metadata": {
  "kernelspec": {
   "display_name": "Python 3 (ipykernel)",
   "language": "python",
   "name": "python3"
  },
  "language_info": {
   "codemirror_mode": {
    "name": "ipython",
    "version": 3
   },
   "file_extension": ".py",
   "mimetype": "text/x-python",
   "name": "python",
   "nbconvert_exporter": "python",
   "pygments_lexer": "ipython3",
   "version": "3.8.12"
  }
 },
 "nbformat": 4,
 "nbformat_minor": 5
}
