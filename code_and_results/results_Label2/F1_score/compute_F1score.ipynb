{
 "cells": [
  {
   "cell_type": "code",
   "execution_count": 1,
   "id": "d82909f2",
   "metadata": {},
   "outputs": [
    {
     "name": "stdout",
     "output_type": "stream",
     "text": [
      "0.6289453981456867 0.6125068204063087 0.5651055280884927\n"
     ]
    }
   ],
   "source": [
    "%reset -f\n",
    "\n",
    "from sklearn.metrics import f1_score\n",
    "import pandas as pd\n",
    "\n",
    "all_data = pd.read_csv('All_results.csv', delimiter = \";\", encoding = 'latin_1')\n",
    "\n",
    "y_true=all_data['Label2']\n",
    "y_pred6=all_data['Label2_pred_epoch6']\n",
    "y_pred15=all_data['Label2_pred_epoch15']\n",
    "y_pred20=all_data['Label2_pred_epoch20']\n",
    "\n",
    "f1_6=f1_score(y_true, y_pred6, average='weighted')\n",
    "f1_15=f1_score(y_true, y_pred15, average='weighted')\n",
    "f1_20=f1_score(y_true, y_pred20, average='weighted')\n",
    "\n",
    "print(f1_6, f1_15, f1_20)"
   ]
  },
  {
   "cell_type": "code",
   "execution_count": 3,
   "id": "302336cb",
   "metadata": {},
   "outputs": [
    {
     "name": "stdout",
     "output_type": "stream",
     "text": [
      "(0.6762114679083528, 0.645, 0.6289453981456867, None)\n",
      "(0.6272034690799396, 0.6275, 0.6125068204063087, None)\n",
      "(0.6057412439613526, 0.595, 0.5651055280884927, None)\n"
     ]
    }
   ],
   "source": [
    "from sklearn.metrics import precision_recall_fscore_support\n",
    "\n",
    "print(precision_recall_fscore_support(y_true, y_pred6, average='weighted'))\n",
    "print(precision_recall_fscore_support(y_true, y_pred15, average='weighted'))\n",
    "print(precision_recall_fscore_support(y_true, y_pred20, average='weighted'))"
   ]
  },
  {
   "cell_type": "code",
   "execution_count": null,
   "id": "ed85b823",
   "metadata": {},
   "outputs": [],
   "source": []
  }
 ],
 "metadata": {
  "kernelspec": {
   "display_name": "Python 3 (ipykernel)",
   "language": "python",
   "name": "python3"
  },
  "language_info": {
   "codemirror_mode": {
    "name": "ipython",
    "version": 3
   },
   "file_extension": ".py",
   "mimetype": "text/x-python",
   "name": "python",
   "nbconvert_exporter": "python",
   "pygments_lexer": "ipython3",
   "version": "3.8.12"
  }
 },
 "nbformat": 4,
 "nbformat_minor": 5
}
